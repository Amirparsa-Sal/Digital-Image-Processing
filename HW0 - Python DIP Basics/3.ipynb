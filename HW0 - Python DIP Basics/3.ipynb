{
 "cells": [
  {
   "cell_type": "markdown",
   "metadata": {},
   "source": [
    "### Import modules\n",
    "\n",
    "In this problem we need `matplotlib` and `numpy`:"
   ]
  },
  {
   "cell_type": "code",
   "execution_count": 33,
   "metadata": {},
   "outputs": [],
   "source": [
    "import numpy as np\n",
    "import matplotlib.pyplot as plt"
   ]
  },
  {
   "cell_type": "markdown",
   "metadata": {},
   "source": [
    "### Part 1: Storing the student number\n",
    "\n",
    "My student number is 9831034. We need this number in next parts."
   ]
  },
  {
   "cell_type": "code",
   "execution_count": 34,
   "metadata": {},
   "outputs": [],
   "source": [
    "std_num = 9831034"
   ]
  },
  {
   "cell_type": "markdown",
   "metadata": {},
   "source": [
    "### Part 2: Circle function\n",
    "\n",
    "We need a function to create an array containing a circle with radius r.\n",
    "\n",
    "- Values inside the circle are 255 and 0 otherwise.\n",
    "- Data type of the array must be `numpy.uint8`.\n",
    "\n",
    "we can use `numpy.fromfunction()` function to generate our circle inside an array:"
   ]
  },
  {
   "cell_type": "code",
   "execution_count": 35,
   "metadata": {},
   "outputs": [],
   "source": [
    "def generate_circle(r: int) -> np.ndarray:\n",
    "    '''Creates a circle with radius r.\n",
    "    :param r int: radius of the circle\n",
    "    :return: a matrix containing the circle\n",
    "    '''\n",
    "    shape = (2 * r + 1, 2 * r + 1)\n",
    "    matrix = np.fromfunction(lambda i, j : 255 * ((i - r) ** 2 + (j - r) ** 2 <= r ** 2), shape=shape).astype(np.uint8)\n",
    "    return matrix"
   ]
  },
  {
   "cell_type": "markdown",
   "metadata": {},
   "source": [
    "To test our function:"
   ]
  },
  {
   "cell_type": "code",
   "execution_count": 36,
   "metadata": {},
   "outputs": [
    {
     "name": "stdout",
     "output_type": "stream",
     "text": [
      "Main circle:\n",
      "[[  0   0   0   0   0 255   0   0   0   0   0]\n",
      " [  0   0 255 255 255 255 255 255 255   0   0]\n",
      " [  0 255 255 255 255 255 255 255 255 255   0]\n",
      " [  0 255 255 255 255 255 255 255 255 255   0]\n",
      " [  0 255 255 255 255 255 255 255 255 255   0]\n",
      " [255 255 255 255 255 255 255 255 255 255 255]\n",
      " [  0 255 255 255 255 255 255 255 255 255   0]\n",
      " [  0 255 255 255 255 255 255 255 255 255   0]\n",
      " [  0 255 255 255 255 255 255 255 255 255   0]\n",
      " [  0   0 255 255 255 255 255 255 255   0   0]\n",
      " [  0   0   0   0   0 255   0   0   0   0   0]]\n"
     ]
    }
   ],
   "source": [
    "r = 5\n",
    "circle = generate_circle(r)\n",
    "print('Main circle:')\n",
    "print(circle)"
   ]
  },
  {
   "cell_type": "markdown",
   "metadata": {},
   "source": [
    "### Part 3: Noise function\n",
    "\n",
    "We need another function to add noise to our circle. The function must have the following properties:\n",
    "\n",
    "- The generated noise must be float numbers with uniform distribution.\n",
    "- The function must take an argument as the noise domain. So, the noise must be in range of [0, domain].\n",
    "- The function must add the noise to 0 values and subtract it from 255 values.\n",
    "- The new values must be floored and the new data type must be equal to the main matrix.\n",
    "\n",
    "Here is how we can implement our function:"
   ]
  },
  {
   "cell_type": "code",
   "execution_count": 37,
   "metadata": {},
   "outputs": [],
   "source": [
    "def noise(matrix: np.ndarray, domain: int) -> np.ndarray:\n",
    "    '''Adds noise to an matrix. if the value in matrix is 255 the noise in negative and if the value is 0 the noise is positive. \\n\n",
    "    :param matrix np.array: a numpy array\n",
    "    :param domain int: maximum noise range\n",
    "    :return np.array: a new numpy array containing noisy image\n",
    "    '''\n",
    "    # create noise matrix\n",
    "    noise_matrix = np.random.uniform(low = 0, high = domain, size = matrix.shape)\n",
    "    # multiply noise values by -1 where the matrix value is 255\n",
    "    noise_matrix[matrix == 255] *= -1\n",
    "    # add the noise to our matrix and use floor function\n",
    "    return np.floor(matrix + noise_matrix).astype(matrix.dtype)"
   ]
  },
  {
   "cell_type": "markdown",
   "metadata": {},
   "source": [
    "As it is mentioned in the problem, we should initialize `domain` parameter as following:\n",
    "\n",
    "$domain = 40 + SumDigits(StdNum) \\mod 12$\n",
    "\n",
    "so we need a function to calculate the sum of the digits:"
   ]
  },
  {
   "cell_type": "code",
   "execution_count": 38,
   "metadata": {},
   "outputs": [],
   "source": [
    "def sum_digits(n: int) -> int:\n",
    "    '''A function to count the number of digits in a number.\n",
    "    :param n int: the number\n",
    "    :return int: number of digits\n",
    "    '''\n",
    "    sum_ = 0\n",
    "    while n > 0:\n",
    "        sum_ += n % 10\n",
    "        n //= 10\n",
    "    return sum_"
   ]
  },
  {
   "cell_type": "markdown",
   "metadata": {},
   "source": [
    "Now, we can test our function:"
   ]
  },
  {
   "cell_type": "code",
   "execution_count": 39,
   "metadata": {},
   "outputs": [
    {
     "name": "stdout",
     "output_type": "stream",
     "text": [
      "Noisy circle:\n",
      "[[ 31  15  33  19   8 236  24   5  41  34  28]\n",
      " [  0  34 221 223 252 247 211 237 230  31   7]\n",
      " [ 21 223 211 251 222 219 234 228 228 246  28]\n",
      " [ 15 250 213 249 220 216 237 250 235 222  37]\n",
      " [ 22 251 222 245 236 239 222 216 231 247   4]\n",
      " [222 235 239 223 249 246 236 227 247 240 247]\n",
      " [ 38 225 217 251 236 221 213 239 228 235  17]\n",
      " [ 39 221 223 223 212 235 223 250 241 217  23]\n",
      " [ 18 248 218 234 216 217 248 254 234 216   7]\n",
      " [ 37  33 232 251 215 222 247 217 212  43  25]\n",
      " [ 33  35  18  21   6 247  43  15  11  13  30]]\n"
     ]
    }
   ],
   "source": [
    "domain = 40 + (sum_digits(std_num) % 12)\n",
    "\n",
    "new_circle = noise(circle, domain)\n",
    "print('Noisy circle:')\n",
    "print(new_circle)"
   ]
  },
  {
   "cell_type": "markdown",
   "metadata": {},
   "source": [
    "### Part 4: Visualizing the circles\n",
    "\n",
    "Finally, we can visualize our circles. We must take care about the following notes:\n",
    "- We must use `gray` color map to visualize the circles.\n",
    "- The noisy circle max value may not be 255 so we must use `vmin` and `vmax` parameters.\n",
    "\n",
    "We use `matplotlib.imshow()` function to visualize our circles:"
   ]
  },
  {
   "cell_type": "code",
   "execution_count": 40,
   "metadata": {},
   "outputs": [
    {
     "data": {
      "image/png": "[encoded data removed]",
      "text/plain": [
       "<Figure size 720x360 with 2 Axes>"
      ]
     },
     "metadata": {
      "needs_background": "light"
     },
     "output_type": "display_data"
    }
   ],
   "source": [
    "fig, ax = plt.subplots(1, 2, figsize = (10, 5))\n",
    "fig.suptitle(f'HW0-Image-{std_num}')\n",
    "\n",
    "ax[0].set_title(f'Original circle (r = {r})')\n",
    "ax[0].imshow(circle, cmap='gray')\n",
    "\n",
    "ax[1].set_title(f'Noisy circle (domain = {domain})')\n",
    "ax[1].imshow(new_circle, cmap='gray', vmin = 0, vmax = 255)\n",
    "\n",
    "plt.show()"
   ]
  },
  {
   "cell_type": "markdown",
   "metadata": {},
   "source": []
  }
 ],
 "metadata": {
  "kernelspec": {
   "display_name": "Python 3.9.13 64-bit",
   "language": "python",
   "name": "python3"
  },
  "language_info": {
   "codemirror_mode": {
    "name": "ipython",
    "version": 3
   },
   "file_extension": ".py",
   "mimetype": "text/x-python",
   "name": "python",
   "nbconvert_exporter": "python",
   "pygments_lexer": "ipython3",
   "version": "3.9.13"
  },
  "orig_nbformat": 4,
  "vscode": {
   "interpreter": {
    "hash": "b0fa6594d8f4cbf19f97940f81e996739fb7646882a419484c72d19e05852a7e"
   }
  }
 },
 "nbformat": 4,
 "nbformat_minor": 2
}
