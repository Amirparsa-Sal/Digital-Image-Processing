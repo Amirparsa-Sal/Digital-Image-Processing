{
 "cells": [
  {
   "cell_type": "markdown",
   "metadata": {},
   "source": [
    "### Import modules\n",
    "\n",
    "In this question we only need numpy module:"
   ]
  },
  {
   "cell_type": "code",
   "execution_count": 36,
   "metadata": {},
   "outputs": [],
   "source": [
    "import numpy as np"
   ]
  },
  {
   "cell_type": "markdown",
   "metadata": {},
   "source": [
    "### Part 1: Generating 80 random numbers in range of [-5000, 5000)\n",
    "\n",
    "we can use `np.random.uniform()` function to generate random float numbers with uniform distribution:"
   ]
  },
  {
   "cell_type": "code",
   "execution_count": 37,
   "metadata": {},
   "outputs": [
    {
     "data": {
      "text/plain": [
       "array([ 4261.05024587, -2446.49278108, -2133.9655781 , -4691.64419539,\n",
       "       -1379.18327056,  2482.49894745, -4053.61182446,  4157.52876885,\n",
       "       -4003.81313232, -3201.32736184,  1267.05777083,  1576.04340277,\n",
       "        3395.63040937, -4540.59683396, -2825.48434921,   207.99811333,\n",
       "       -3667.06769056,  1731.65650768,  4672.09180032,  1945.02042289,\n",
       "        2327.06291665,  3215.66826749,  4890.13776707,  4789.43705719,\n",
       "        2236.92326055, -1900.45238551, -3955.27352627,  1875.38798945,\n",
       "         704.2795152 , -1674.21515658,  3038.56982393,   872.39094132,\n",
       "        4167.37152821, -1246.9168465 ,  1661.16820743,  1426.5652133 ,\n",
       "       -4216.33383218,   168.85924108, -2579.55239676,  2523.83114466,\n",
       "         146.69659942, -4620.20017469, -4748.8700833 , -4590.55611995,\n",
       "        3917.91523556, -1845.19926171, -4419.92114578, -4442.18187432,\n",
       "        3395.85842859,  1045.51925139, -3789.34977915, -1183.63848113,\n",
       "        -800.86234121, -2341.59322387,   172.75764474, -2974.03056446,\n",
       "       -4866.03131554,   373.78471551,   266.02337983,  -602.1111888 ,\n",
       "         761.47979269,  1172.11301138, -1823.61182405,  2854.80443343,\n",
       "       -2379.06004169,  -924.12641617, -1368.46449992,  3406.29333706,\n",
       "         373.26039194,  4678.94821698, -3380.66022262,  1248.77126523,\n",
       "        1243.16324307,   432.76717351,   682.46911972, -4005.61414914,\n",
       "        -409.67556338,  3188.92126981,  3791.48170388,  -142.63897163])"
      ]
     },
     "execution_count": 37,
     "metadata": {},
     "output_type": "execute_result"
    }
   ],
   "source": [
    "rand_numbers = np.random.uniform(low = -5000, high = 5000, size = 80)\n",
    "rand_numbers"
   ]
  },
  {
   "cell_type": "markdown",
   "metadata": {},
   "source": [
    "### Part 2: Checking output type and element types"
   ]
  },
  {
   "cell_type": "markdown",
   "metadata": {},
   "source": [
    "We can use python built-in `type()` function to check output type:"
   ]
  },
  {
   "cell_type": "code",
   "execution_count": 38,
   "metadata": {},
   "outputs": [
    {
     "name": "stdout",
     "output_type": "stream",
     "text": [
      "Type of the output: <class 'numpy.ndarray'>\n"
     ]
    }
   ],
   "source": [
    "print(f'Type of the output: {type(rand_numbers)}')"
   ]
  },
  {
   "cell_type": "markdown",
   "metadata": {},
   "source": [
    "Since out output is a `numpy.ndarray` we can check its element types using `numpy.ndarray.dtype` attribute:"
   ]
  },
  {
   "cell_type": "code",
   "execution_count": 39,
   "metadata": {},
   "outputs": [
    {
     "name": "stdout",
     "output_type": "stream",
     "text": [
      "Type of elements: float64\n"
     ]
    }
   ],
   "source": [
    "print(f'Type of elements: {rand_numbers.dtype}')"
   ]
  },
  {
   "cell_type": "markdown",
   "metadata": {},
   "source": [
    "we can see that the output type is `float64`."
   ]
  },
  {
   "cell_type": "markdown",
   "metadata": {},
   "source": [
    "### Part 3: Rounding the numbers to the nearest integer number\n",
    "\n",
    "In order to round the numbers, we can use `numpy.round()` function:"
   ]
  },
  {
   "cell_type": "code",
   "execution_count": 40,
   "metadata": {},
   "outputs": [
    {
     "data": {
      "text/plain": [
       "array([ 4261., -2446., -2134., -4692., -1379.,  2482., -4054.,  4158.,\n",
       "       -4004., -3201.,  1267.,  1576.,  3396., -4541., -2825.,   208.,\n",
       "       -3667.,  1732.,  4672.,  1945.,  2327.,  3216.,  4890.,  4789.,\n",
       "        2237., -1900., -3955.,  1875.,   704., -1674.,  3039.,   872.,\n",
       "        4167., -1247.,  1661.,  1427., -4216.,   169., -2580.,  2524.,\n",
       "         147., -4620., -4749., -4591.,  3918., -1845., -4420., -4442.,\n",
       "        3396.,  1046., -3789., -1184.,  -801., -2342.,   173., -2974.,\n",
       "       -4866.,   374.,   266.,  -602.,   761.,  1172., -1824.,  2855.,\n",
       "       -2379.,  -924., -1368.,  3406.,   373.,  4679., -3381.,  1249.,\n",
       "        1243.,   433.,   682., -4006.,  -410.,  3189.,  3791.,  -143.])"
      ]
     },
     "execution_count": 40,
     "metadata": {},
     "output_type": "execute_result"
    }
   ],
   "source": [
    "rounded_numbers = np.round(rand_numbers)\n",
    "rounded_numbers"
   ]
  },
  {
   "cell_type": "markdown",
   "metadata": {},
   "source": [
    "### Part 4: Choosing a suitable data type\n",
    "\n",
    "we should choose from a vast amount of available data types. Each data type supports a range of numbers considering the type of the number which can be an integer or a float number:\n",
    "\n",
    "- `int`: As same as `int64`.\n",
    "- `int8`: Integer number in range of $[-2^7, 2^7 - 1]$\n",
    "- `uint8`: Integer number in range of $[0, 2^8 - 1]$\n",
    "- `int16`: Integer number in range of $[-2^{15}, 2^{15} - 1]$\n",
    "- `uint16`: Integer number in range of $[0, 2^{15} - 1]$\n",
    "- `int32`: Integer number in range of $[-2^{31}, 2^{31} - 1]$\n",
    "- `int64`: Integer number in range of $[-2^{63}, 2^{63} - 1]$\n",
    "- `float`: As same as `float64`.\n",
    "- `float32`: Floating point number in range of $[-2^{31}, 2^{31} - 1]$\n",
    "- `float64`: Floating point number in range of $[-2^{63}, 2^{63} - 1]$\n",
    "\n",
    "In our case, because we've rounded our numbers, we need to support integer numbers in range of [-5000, 5000). So, the best choice is `int16` because it is the smallest data type which can support this range of numbers.\n",
    "\n",
    "We see that after conversion all of the numbers remain the same as before:"
   ]
  },
  {
   "cell_type": "code",
   "execution_count": 41,
   "metadata": {},
   "outputs": [
    {
     "data": {
      "text/plain": [
       "True"
      ]
     },
     "execution_count": 41,
     "metadata": {},
     "output_type": "execute_result"
    }
   ],
   "source": [
    "converted_numbers = rounded_numbers.astype(np.int16)\n",
    "np.all(converted_numbers == rounded_numbers)"
   ]
  },
  {
   "cell_type": "markdown",
   "metadata": {},
   "source": [
    "To prove the correctness of our conversion we can check the data type again:"
   ]
  },
  {
   "cell_type": "code",
   "execution_count": 42,
   "metadata": {},
   "outputs": [
    {
     "data": {
      "text/plain": [
       "dtype('int16')"
      ]
     },
     "execution_count": 42,
     "metadata": {},
     "output_type": "execute_result"
    }
   ],
   "source": [
    "converted_numbers.dtype"
   ]
  },
  {
   "cell_type": "markdown",
   "metadata": {},
   "source": [
    "### Part 5: Normalizing the numbers\n",
    "\n",
    "We can use this formula to normalize our numbers and scale them into the range of [0, 1]:  \n",
    "$x = \\frac{x - x_{max}}{x_{max} - x_{min}}$\n",
    "\n",
    "so we can use this conversion followed by a multiplication to 255 in order to scale our numbers into the range of [0, 255]."
   ]
  },
  {
   "cell_type": "code",
   "execution_count": 43,
   "metadata": {},
   "outputs": [
    {
     "data": {
      "text/plain": [
       "array([236.1555,  65.127 ,  73.083 ,   7.854 ,  92.3355, 190.791 ,\n",
       "        24.123 , 233.529 ,  25.398 ,  45.8745, 159.8085, 167.688 ,\n",
       "       214.098 ,  11.7045,  55.4625, 132.804 ,  33.9915, 171.666 ,\n",
       "       246.636 , 177.0975, 186.8385, 209.508 , 252.195 , 249.6195,\n",
       "       184.5435,  79.05  ,  26.6475, 175.3125, 145.452 ,  84.813 ,\n",
       "       204.9945, 149.736 , 233.7585,  95.7015, 169.8555, 163.8885,\n",
       "        19.992 , 131.8095,  61.71  , 191.862 , 131.2485,   9.69  ,\n",
       "         6.4005,  10.4295, 227.409 ,  80.4525,  14.79  ,  14.229 ,\n",
       "       214.098 , 154.173 ,  30.8805,  97.308 , 107.0745,  67.779 ,\n",
       "       131.9115,  51.663 ,   3.417 , 137.037 , 134.283 , 112.149 ,\n",
       "       146.9055, 157.386 ,  80.988 , 200.3025,  66.8355, 103.938 ,\n",
       "        92.616 , 214.353 , 137.0115, 246.8145,  41.2845, 159.3495,\n",
       "       159.1965, 138.5415, 144.891 ,  25.347 , 117.045 , 208.8195,\n",
       "       224.1705, 123.8535])"
      ]
     },
     "execution_count": 43,
     "metadata": {},
     "output_type": "execute_result"
    }
   ],
   "source": [
    "ranged_numbers = (converted_numbers - (-5000)) / (5000 - (-5000)) * 255\n",
    "ranged_numbers"
   ]
  },
  {
   "cell_type": "markdown",
   "metadata": {},
   "source": [
    "because we have floating point numbers, we can use `numpy.round()` function to round these numbers. after that we can use `numpy.ndarray.astype()` function to convert our numbers to `np.int16`:"
   ]
  },
  {
   "cell_type": "code",
   "execution_count": 44,
   "metadata": {},
   "outputs": [
    {
     "data": {
      "text/plain": [
       "array([236,  65,  73,   8,  92, 191,  24, 234,  25,  46, 160, 168, 214,\n",
       "        12,  55, 133,  34, 172, 247, 177, 187, 210, 252, 250, 185,  79,\n",
       "        27, 175, 145,  85, 205, 150, 234,  96, 170, 164,  20, 132,  62,\n",
       "       192, 131,  10,   6,  10, 227,  80,  15,  14, 214, 154,  31,  97,\n",
       "       107,  68, 132,  52,   3, 137, 134, 112, 147, 157,  81, 200,  67,\n",
       "       104,  93, 214, 137, 247,  41, 159, 159, 139, 145,  25, 117, 209,\n",
       "       224, 124], dtype=int16)"
      ]
     },
     "execution_count": 44,
     "metadata": {},
     "output_type": "execute_result"
    }
   ],
   "source": [
    "ranged_numbers = np.round(ranged_numbers).astype(np.int16)\n",
    "ranged_numbers"
   ]
  },
  {
   "cell_type": "markdown",
   "metadata": {},
   "source": [
    "### Part 6: Reshaping the array to (8, 10)\n",
    "\n",
    "We can use `nummpy.ndarray.reshape()` function to reshape our array:"
   ]
  },
  {
   "cell_type": "code",
   "execution_count": 45,
   "metadata": {},
   "outputs": [
    {
     "data": {
      "text/plain": [
       "array([[236,  65,  73,   8,  92, 191,  24, 234,  25,  46],\n",
       "       [160, 168, 214,  12,  55, 133,  34, 172, 247, 177],\n",
       "       [187, 210, 252, 250, 185,  79,  27, 175, 145,  85],\n",
       "       [205, 150, 234,  96, 170, 164,  20, 132,  62, 192],\n",
       "       [131,  10,   6,  10, 227,  80,  15,  14, 214, 154],\n",
       "       [ 31,  97, 107,  68, 132,  52,   3, 137, 134, 112],\n",
       "       [147, 157,  81, 200,  67, 104,  93, 214, 137, 247],\n",
       "       [ 41, 159, 159, 139, 145,  25, 117, 209, 224, 124]], dtype=int16)"
      ]
     },
     "execution_count": 45,
     "metadata": {},
     "output_type": "execute_result"
    }
   ],
   "source": [
    "reshaped_numbers = ranged_numbers.reshape((8, 10))\n",
    "reshaped_numbers"
   ]
  },
  {
   "cell_type": "markdown",
   "metadata": {},
   "source": [
    "### Part 7: Converting data type to int8\n",
    "\n",
    "Using `numpy.ndarray.astype()` function we get the array below:"
   ]
  },
  {
   "cell_type": "code",
   "execution_count": 47,
   "metadata": {},
   "outputs": [
    {
     "data": {
      "text/plain": [
       "array([[ -20,   65,   73,    8,   92,  -65,   24,  -22,   25,   46],\n",
       "       [ -96,  -88,  -42,   12,   55, -123,   34,  -84,   -9,  -79],\n",
       "       [ -69,  -46,   -4,   -6,  -71,   79,   27,  -81, -111,   85],\n",
       "       [ -51, -106,  -22,   96,  -86,  -92,   20, -124,   62,  -64],\n",
       "       [-125,   10,    6,   10,  -29,   80,   15,   14,  -42, -102],\n",
       "       [  31,   97,  107,   68, -124,   52,    3, -119, -122,  112],\n",
       "       [-109,  -99,   81,  -56,   67,  104,   93,  -42, -119,   -9],\n",
       "       [  41,  -97,  -97, -117, -111,   25,  117,  -47,  -32,  124]],\n",
       "      dtype=int8)"
      ]
     },
     "execution_count": 47,
     "metadata": {},
     "output_type": "execute_result"
    }
   ],
   "source": [
    "int8_numbers = reshaped_numbers.astype(np.int8)\n",
    "int8_numbers"
   ]
  },
  {
   "cell_type": "markdown",
   "metadata": {},
   "source": [
    "To check the equality of the new array and previous array:"
   ]
  },
  {
   "cell_type": "code",
   "execution_count": 49,
   "metadata": {},
   "outputs": [
    {
     "data": {
      "text/plain": [
       "False"
      ]
     },
     "execution_count": 49,
     "metadata": {},
     "output_type": "execute_result"
    }
   ],
   "source": [
    "np.all(reshaped_numbers == int8_numbers)"
   ]
  },
  {
   "cell_type": "markdown",
   "metadata": {},
   "source": [
    "So, it seems that the new array is not equal to the previous one. Lets check in which elements we have these changes:"
   ]
  },
  {
   "cell_type": "code",
   "execution_count": 50,
   "metadata": {},
   "outputs": [
    {
     "data": {
      "text/plain": [
       "array([236, 191, 234, 160, 168, 214, 133, 172, 247, 177, 187, 210, 252,\n",
       "       250, 185, 175, 145, 205, 150, 234, 170, 164, 132, 192, 131, 227,\n",
       "       214, 154, 132, 137, 134, 147, 157, 200, 214, 137, 247, 159, 159,\n",
       "       139, 145, 209, 224], dtype=int16)"
      ]
     },
     "execution_count": 50,
     "metadata": {},
     "output_type": "execute_result"
    }
   ],
   "source": [
    "reshaped_numbers[np.where(reshaped_numbers != int8_numbers)]"
   ]
  },
  {
   "cell_type": "markdown",
   "metadata": {},
   "source": [
    "unchanged numbers:"
   ]
  },
  {
   "cell_type": "code",
   "execution_count": 51,
   "metadata": {},
   "outputs": [
    {
     "data": {
      "text/plain": [
       "array([ 65,  73,   8,  92,  24,  25,  46,  12,  55,  34,  79,  27,  85,\n",
       "        96,  20,  62,  10,   6,  10,  80,  15,  14,  31,  97, 107,  68,\n",
       "        52,   3, 112,  81,  67, 104,  93,  41,  25, 117, 124], dtype=int16)"
      ]
     },
     "execution_count": 51,
     "metadata": {},
     "output_type": "execute_result"
    }
   ],
   "source": [
    "reshaped_numbers[np.where(reshaped_numbers == int8_numbers)]"
   ]
  },
  {
   "cell_type": "markdown",
   "metadata": {},
   "source": [
    "As I mentioned above, the supported range of `int8` data type is $[-2^7, 2^7 - 1]$. \n",
    "\n",
    "In our previous matrix we had numbers in range of $[0, 2^8 - 1]$. So, the new data type does not support the numbers in range of $[2^7, 2^8 - 1]$ and overflow will happen for the numbers in this range.\n",
    "\n",
    "Thats why we see that all of the changed numbers are more than 127 and all of the unchanged numbers are less than 128.\n",
    "\n",
    "For the numbers bigger than 127, the new value can be calculated as below:\n",
    "\n",
    "$x = x - 256$\n",
    "\n",
    "for example if you look at the first element of the array which has the value of 236:\n",
    "\n",
    "$236 - 256 = -20$\n",
    "\n",
    "which is the value of the first element in `int8` array.\n"
   ]
  }
 ],
 "metadata": {
  "kernelspec": {
   "display_name": "Python 3.9.13 64-bit",
   "language": "python",
   "name": "python3"
  },
  "language_info": {
   "codemirror_mode": {
    "name": "ipython",
    "version": 3
   },
   "file_extension": ".py",
   "mimetype": "text/x-python",
   "name": "python",
   "nbconvert_exporter": "python",
   "pygments_lexer": "ipython3",
   "version": "3.9.13"
  },
  "orig_nbformat": 4,
  "vscode": {
   "interpreter": {
    "hash": "b0fa6594d8f4cbf19f97940f81e996739fb7646882a419484c72d19e05852a7e"
   }
  }
 },
 "nbformat": 4,
 "nbformat_minor": 2
}
