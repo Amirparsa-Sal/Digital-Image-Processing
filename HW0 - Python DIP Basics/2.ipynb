{
 "cells": [
  {
   "cell_type": "markdown",
   "metadata": {},
   "source": [
    "### Import modules\n",
    "\n",
    "We just need `typing` module to specify the types of our function arguments:"
   ]
  },
  {
   "cell_type": "code",
   "execution_count": 1,
   "metadata": {},
   "outputs": [],
   "source": [
    "from typing import List, Tuple"
   ]
  },
  {
   "cell_type": "markdown",
   "metadata": {},
   "source": [
    "### Part 1: Function prototype\n",
    "\n",
    "We need a function that takes 2 arguemnts:\n",
    "- `seed`: the first element of the array (can be any number)\n",
    "- `dims`: dimension of the array (a tuple)\n",
    "  \n",
    "The function must return a 2d array which has the follwing property:\n",
    "\n",
    "$A_{i,j} = A_{i-1,j} + A_{i,j-1} + A_{i-1,j-1}$\n",
    "\n",
    "Note: if the element does not exist, we use 0 as its value."
   ]
  },
  {
   "cell_type": "code",
   "execution_count": null,
   "metadata": {},
   "outputs": [],
   "source": [
    "def generate(seed: float, dims: Tuple[int]) -> List[list]:\n",
    "    pass"
   ]
  },
  {
   "cell_type": "markdown",
   "metadata": {},
   "source": [
    "### Part 2: Complete the function\n",
    "\n",
    "We can iterate our array from the first row to calculate the value of each element. We must care about the indeces outside the array and use 0 as their value:"
   ]
  },
  {
   "cell_type": "code",
   "execution_count": 2,
   "metadata": {},
   "outputs": [],
   "source": [
    "def generate(seed: float, dims: Tuple[int]) -> List[List[float]]:\n",
    "    '''\n",
    "    A function to generate a 2d array which has the following properties: \\n\n",
    "    1) The first element is equal to the seed. \\n\n",
    "    2) Any other element is equal to the sum of the upper left, up and left elements. \\n\n",
    "    :param seed float: The initial number in the 2d array \\n\n",
    "    :param dims Tuple[int]: The shape of the array \\n\n",
    "    :return List[list]: A 2d array which has the mentioned properties. \\n\n",
    "    '''\n",
    "    # create the 2d array\n",
    "    numbers = [[0 for j in range(dims[1])] for i in range(dims[0])]\n",
    "    numbers[0][0] = seed\n",
    "    # loop over the array to fill it\n",
    "    for i in range(dims[0]):\n",
    "        for j in range(dims[1]):\n",
    "            # add upper element\n",
    "            if i - 1 > -1:\n",
    "                numbers[i][j] += numbers[i - 1][j]\n",
    "                # add upper left element\n",
    "                if j - 1 > -1:\n",
    "                    numbers[i][j] += numbers[i - 1][j - 1]\n",
    "            # add left element\n",
    "            if j - 1 > -1:\n",
    "                numbers[i][j] += numbers[i][j - 1]\n",
    "\n",
    "    return numbers"
   ]
  },
  {
   "cell_type": "markdown",
   "metadata": {},
   "source": [
    "Now, we can test our function:"
   ]
  },
  {
   "cell_type": "code",
   "execution_count": 4,
   "metadata": {},
   "outputs": [
    {
     "name": "stdout",
     "output_type": "stream",
     "text": [
      "The result:\n",
      "[2, 2, 2, 2]\n",
      "[2, 6, 10, 14]\n",
      "[2, 10, 26, 50]\n"
     ]
    }
   ],
   "source": [
    "seed = 2\n",
    "dims = (3, 4)\n",
    "\n",
    "numbers = generate(seed, dims)\n",
    "print('The result:')\n",
    "for row in numbers:\n",
    "    print(row)"
   ]
  }
 ],
 "metadata": {
  "kernelspec": {
   "display_name": "Python 3.9.13 64-bit",
   "language": "python",
   "name": "python3"
  },
  "language_info": {
   "codemirror_mode": {
    "name": "ipython",
    "version": 3
   },
   "file_extension": ".py",
   "mimetype": "text/x-python",
   "name": "python",
   "nbconvert_exporter": "python",
   "pygments_lexer": "ipython3",
   "version": "3.9.13"
  },
  "orig_nbformat": 4,
  "vscode": {
   "interpreter": {
    "hash": "b0fa6594d8f4cbf19f97940f81e996739fb7646882a419484c72d19e05852a7e"
   }
  }
 },
 "nbformat": 4,
 "nbformat_minor": 2
}
